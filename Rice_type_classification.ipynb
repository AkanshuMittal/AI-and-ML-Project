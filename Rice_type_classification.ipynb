{
  "nbformat": 4,
  "nbformat_minor": 0,
  "metadata": {
    "colab": {
      "provenance": [],
      "mount_file_id": "1OkQ7ltzjyXrk5AFJGVhft4a56NIJOxc9",
      "authorship_tag": "ABX9TyP7gtBRYt5IHn8VrIjEchNO",
      "include_colab_link": true
    },
    "kernelspec": {
      "name": "python3",
      "display_name": "Python 3"
    },
    "language_info": {
      "name": "python"
    }
  },
  "cells": [
    {
      "cell_type": "markdown",
      "metadata": {
        "id": "view-in-github",
        "colab_type": "text"
      },
      "source": [
        "<a href=\"https://colab.research.google.com/github/AkanshuMittal/AI-and-ML-Project/blob/main/Rice_type_classification.ipynb\" target=\"_parent\"><img src=\"https://colab.research.google.com/assets/colab-badge.svg\" alt=\"Open In Colab\"/></a>"
      ]
    },
    {
      "cell_type": "code",
      "execution_count": 8,
      "metadata": {
        "id": "PTc5Js9kTCnk"
      },
      "outputs": [],
      "source": [
        "# Importing ML Libraries\n",
        "import numpy as np\n",
        "import pandas as pd\n",
        "import os\n",
        "import pathlib\n",
        "# Importing DL Libraries\n",
        "import tensorflow as tf\n",
        "from tensorflow import keras\n",
        "# Importing for accessing pre-trained models\n",
        "import tensorflow_hub as hub\n",
        "# Importing for separating train and test data\n",
        "from sklearn.model_selection import train_test_split\n",
        "# Importing libraries for Visualization\n",
        "import matplotlib.pyplot as plt\n",
        "import matplotlib.image as img\n",
        "import PIL.Image as Image\n",
        "import cv2\n"
      ]
    },
    {
      "cell_type": "code",
      "source": [
        "from google.colab import files\n",
        "uploaded = files.upload()\n",
        "\n"
      ],
      "metadata": {
        "id": "RhjatvOtMhkG",
        "colab": {
          "base_uri": "https://localhost:8080/",
          "height": 73
        },
        "outputId": "b97fca4a-38e5-46e0-89da-8ad641036a8a"
      },
      "execution_count": 10,
      "outputs": [
        {
          "output_type": "display_data",
          "data": {
            "text/plain": [
              "<IPython.core.display.HTML object>"
            ],
            "text/html": [
              "\n",
              "     <input type=\"file\" id=\"files-284ce3ef-12c5-4e87-bc9d-4924a112b593\" name=\"files[]\" multiple disabled\n",
              "        style=\"border:none\" />\n",
              "     <output id=\"result-284ce3ef-12c5-4e87-bc9d-4924a112b593\">\n",
              "      Upload widget is only available when the cell has been executed in the\n",
              "      current browser session. Please rerun this cell to enable.\n",
              "      </output>\n",
              "      <script>// Copyright 2017 Google LLC\n",
              "//\n",
              "// Licensed under the Apache License, Version 2.0 (the \"License\");\n",
              "// you may not use this file except in compliance with the License.\n",
              "// You may obtain a copy of the License at\n",
              "//\n",
              "//      http://www.apache.org/licenses/LICENSE-2.0\n",
              "//\n",
              "// Unless required by applicable law or agreed to in writing, software\n",
              "// distributed under the License is distributed on an \"AS IS\" BASIS,\n",
              "// WITHOUT WARRANTIES OR CONDITIONS OF ANY KIND, either express or implied.\n",
              "// See the License for the specific language governing permissions and\n",
              "// limitations under the License.\n",
              "\n",
              "/**\n",
              " * @fileoverview Helpers for google.colab Python module.\n",
              " */\n",
              "(function(scope) {\n",
              "function span(text, styleAttributes = {}) {\n",
              "  const element = document.createElement('span');\n",
              "  element.textContent = text;\n",
              "  for (const key of Object.keys(styleAttributes)) {\n",
              "    element.style[key] = styleAttributes[key];\n",
              "  }\n",
              "  return element;\n",
              "}\n",
              "\n",
              "// Max number of bytes which will be uploaded at a time.\n",
              "const MAX_PAYLOAD_SIZE = 100 * 1024;\n",
              "\n",
              "function _uploadFiles(inputId, outputId) {\n",
              "  const steps = uploadFilesStep(inputId, outputId);\n",
              "  const outputElement = document.getElementById(outputId);\n",
              "  // Cache steps on the outputElement to make it available for the next call\n",
              "  // to uploadFilesContinue from Python.\n",
              "  outputElement.steps = steps;\n",
              "\n",
              "  return _uploadFilesContinue(outputId);\n",
              "}\n",
              "\n",
              "// This is roughly an async generator (not supported in the browser yet),\n",
              "// where there are multiple asynchronous steps and the Python side is going\n",
              "// to poll for completion of each step.\n",
              "// This uses a Promise to block the python side on completion of each step,\n",
              "// then passes the result of the previous step as the input to the next step.\n",
              "function _uploadFilesContinue(outputId) {\n",
              "  const outputElement = document.getElementById(outputId);\n",
              "  const steps = outputElement.steps;\n",
              "\n",
              "  const next = steps.next(outputElement.lastPromiseValue);\n",
              "  return Promise.resolve(next.value.promise).then((value) => {\n",
              "    // Cache the last promise value to make it available to the next\n",
              "    // step of the generator.\n",
              "    outputElement.lastPromiseValue = value;\n",
              "    return next.value.response;\n",
              "  });\n",
              "}\n",
              "\n",
              "/**\n",
              " * Generator function which is called between each async step of the upload\n",
              " * process.\n",
              " * @param {string} inputId Element ID of the input file picker element.\n",
              " * @param {string} outputId Element ID of the output display.\n",
              " * @return {!Iterable<!Object>} Iterable of next steps.\n",
              " */\n",
              "function* uploadFilesStep(inputId, outputId) {\n",
              "  const inputElement = document.getElementById(inputId);\n",
              "  inputElement.disabled = false;\n",
              "\n",
              "  const outputElement = document.getElementById(outputId);\n",
              "  outputElement.innerHTML = '';\n",
              "\n",
              "  const pickedPromise = new Promise((resolve) => {\n",
              "    inputElement.addEventListener('change', (e) => {\n",
              "      resolve(e.target.files);\n",
              "    });\n",
              "  });\n",
              "\n",
              "  const cancel = document.createElement('button');\n",
              "  inputElement.parentElement.appendChild(cancel);\n",
              "  cancel.textContent = 'Cancel upload';\n",
              "  const cancelPromise = new Promise((resolve) => {\n",
              "    cancel.onclick = () => {\n",
              "      resolve(null);\n",
              "    };\n",
              "  });\n",
              "\n",
              "  // Wait for the user to pick the files.\n",
              "  const files = yield {\n",
              "    promise: Promise.race([pickedPromise, cancelPromise]),\n",
              "    response: {\n",
              "      action: 'starting',\n",
              "    }\n",
              "  };\n",
              "\n",
              "  cancel.remove();\n",
              "\n",
              "  // Disable the input element since further picks are not allowed.\n",
              "  inputElement.disabled = true;\n",
              "\n",
              "  if (!files) {\n",
              "    return {\n",
              "      response: {\n",
              "        action: 'complete',\n",
              "      }\n",
              "    };\n",
              "  }\n",
              "\n",
              "  for (const file of files) {\n",
              "    const li = document.createElement('li');\n",
              "    li.append(span(file.name, {fontWeight: 'bold'}));\n",
              "    li.append(span(\n",
              "        `(${file.type || 'n/a'}) - ${file.size} bytes, ` +\n",
              "        `last modified: ${\n",
              "            file.lastModifiedDate ? file.lastModifiedDate.toLocaleDateString() :\n",
              "                                    'n/a'} - `));\n",
              "    const percent = span('0% done');\n",
              "    li.appendChild(percent);\n",
              "\n",
              "    outputElement.appendChild(li);\n",
              "\n",
              "    const fileDataPromise = new Promise((resolve) => {\n",
              "      const reader = new FileReader();\n",
              "      reader.onload = (e) => {\n",
              "        resolve(e.target.result);\n",
              "      };\n",
              "      reader.readAsArrayBuffer(file);\n",
              "    });\n",
              "    // Wait for the data to be ready.\n",
              "    let fileData = yield {\n",
              "      promise: fileDataPromise,\n",
              "      response: {\n",
              "        action: 'continue',\n",
              "      }\n",
              "    };\n",
              "\n",
              "    // Use a chunked sending to avoid message size limits. See b/62115660.\n",
              "    let position = 0;\n",
              "    do {\n",
              "      const length = Math.min(fileData.byteLength - position, MAX_PAYLOAD_SIZE);\n",
              "      const chunk = new Uint8Array(fileData, position, length);\n",
              "      position += length;\n",
              "\n",
              "      const base64 = btoa(String.fromCharCode.apply(null, chunk));\n",
              "      yield {\n",
              "        response: {\n",
              "          action: 'append',\n",
              "          file: file.name,\n",
              "          data: base64,\n",
              "        },\n",
              "      };\n",
              "\n",
              "      let percentDone = fileData.byteLength === 0 ?\n",
              "          100 :\n",
              "          Math.round((position / fileData.byteLength) * 100);\n",
              "      percent.textContent = `${percentDone}% done`;\n",
              "\n",
              "    } while (position < fileData.byteLength);\n",
              "  }\n",
              "\n",
              "  // All done.\n",
              "  yield {\n",
              "    response: {\n",
              "      action: 'complete',\n",
              "    }\n",
              "  };\n",
              "}\n",
              "\n",
              "scope.google = scope.google || {};\n",
              "scope.google.colab = scope.google.colab || {};\n",
              "scope.google.colab._files = {\n",
              "  _uploadFiles,\n",
              "  _uploadFilesContinue,\n",
              "};\n",
              "})(self);\n",
              "</script> "
            ]
          },
          "metadata": {}
        },
        {
          "output_type": "stream",
          "name": "stdout",
          "text": [
            "Saving archive.zip to archive.zip\n"
          ]
        }
      ]
    },
    {
      "cell_type": "code",
      "source": [
        "zip_path = \"/content/archive.zip\"  # Ye aapke uploaded zip ka path hai\n",
        "extract_path = \"/content/archive\"  # Folder yahan extract hoga\n",
        "\n"
      ],
      "metadata": {
        "id": "-fDqFuoVb-LP"
      },
      "execution_count": 11,
      "outputs": []
    },
    {
      "cell_type": "code",
      "source": [
        "import zipfile\n",
        "import os\n",
        "\n",
        "with zipfile.ZipFile(zip_path, 'r') as zip_ref:\n",
        "    zip_ref.extractall(extract_path)\n",
        "\n",
        "print(\"Folder extracted at:\", extract_path)\n"
      ],
      "metadata": {
        "colab": {
          "base_uri": "https://localhost:8080/"
        },
        "id": "6g7T5oENcSc7",
        "outputId": "86851fb2-6c4b-4869-92c0-66b4d65b0a07"
      },
      "execution_count": 12,
      "outputs": [
        {
          "output_type": "stream",
          "name": "stdout",
          "text": [
            "Folder extracted at: /content/archive\n"
          ]
        }
      ]
    },
    {
      "cell_type": "code",
      "source": [
        "extracted_files = os.listdir(extract_path)\n",
        "print(\"Extracted files:\", extracted_files)\n"
      ],
      "metadata": {
        "colab": {
          "base_uri": "https://localhost:8080/"
        },
        "id": "q_HL3jGhcxXw",
        "outputId": "5d243d01-47eb-46d0-c997-39b5b704fec6"
      },
      "execution_count": 13,
      "outputs": [
        {
          "output_type": "stream",
          "name": "stdout",
          "text": [
            "Extracted files: ['Rice_Image_Dataset']\n"
          ]
        }
      ]
    },
    {
      "cell_type": "code",
      "source": [
        "data = \"/content/archive/Rice_Image_Dataset\"  # New path\n",
        "data = pathlib.Path(data)\n",
        "\n"
      ],
      "metadata": {
        "id": "CxyPIO8ledOu"
      },
      "execution_count": 14,
      "outputs": []
    },
    {
      "cell_type": "code",
      "source": [
        "arborio = list(data.glob('Arborio/*'))[:600]\n",
        "basmati = list(data.glob('Basmati/*'))[:600]\n",
        "ipsala = list(data.glob('Ipsala/*'))[:600]\n",
        "jasmine = list(data.glob('Jasmine/*'))[:600]\n",
        "karacadag = list(data.glob('Karacadag/*'))[:600]"
      ],
      "metadata": {
        "id": "xwywjzXHaJWZ"
      },
      "execution_count": 15,
      "outputs": []
    },
    {
      "cell_type": "code",
      "source": [
        "# Images Path\n",
        "df_images = {\n",
        "    'arborio': arborio,\n",
        "    'basmati': basmati,\n",
        "    'ipsala': ipsala,\n",
        "    'jasmine': jasmine,\n",
        "    'karacadag': karacadag\n",
        "}\n",
        "\n",
        "# Numerical Labels for the categories\n",
        "df_labels = {\n",
        "    'arborio': 0,\n",
        "    'basmati': 1,\n",
        "    'ipsala': 2,\n",
        "    'jasmine': 3,\n",
        "    'karacadag': 4\n",
        "}\n"
      ],
      "metadata": {
        "id": "o3WOpNDvewkS"
      },
      "execution_count": 16,
      "outputs": []
    },
    {
      "cell_type": "code",
      "source": [
        "# Convert into the numerical Arrays\n",
        "img = cv2.imread(str(df_images['arborio'][0]))\n",
        "# It provide the dimension of image\n",
        "img.shape"
      ],
      "metadata": {
        "colab": {
          "base_uri": "https://localhost:8080/"
        },
        "id": "S3_Iu8zre_YJ",
        "outputId": "51fcdfd4-0e5c-4631-af84-0ca469768482"
      },
      "execution_count": 17,
      "outputs": [
        {
          "output_type": "execute_result",
          "data": {
            "text/plain": [
              "(250, 250, 3)"
            ]
          },
          "metadata": {},
          "execution_count": 17
        }
      ]
    },
    {
      "cell_type": "code",
      "source": [
        "# X = images, y = labels\n",
        "X, y = [], []\n",
        "for label, images in df_images.items():\n",
        "  for image in images:\n",
        "    img = cv2.imread(str(image))\n",
        "# Resizing the images  to pass on MobileNetv2 model\n",
        "    resized_img = cv2.resize(img, (224, 224))\n",
        "    X.append(resized_img)\n",
        "    y.append(df_labels[label])"
      ],
      "metadata": {
        "id": "E5gtuDc4gvQ1"
      },
      "execution_count": 18,
      "outputs": []
    },
    {
      "cell_type": "code",
      "source": [
        "# Standarizing\n",
        "X = np.array(X)\n",
        "x = X/255\n",
        "y = np.array(y)"
      ],
      "metadata": {
        "id": "ZyiH6bexiCdh"
      },
      "execution_count": 19,
      "outputs": []
    },
    {
      "cell_type": "code",
      "source": [
        "# Splitting the data into training, testing and validatioin sets\n",
        "X_train, X_test_val, y_train, y_test_val = train_test_split(X,y)\n",
        "X_test, X_val, y_test, y_val = train_test_split(X_test_val, y_test_val)\n"
      ],
      "metadata": {
        "id": "Z5e_phsPiUQp"
      },
      "execution_count": 20,
      "outputs": []
    },
    {
      "cell_type": "code",
      "source": [
        "import tensorflow_hub as hub\n",
        "import tensorflow as tf\n",
        "from tensorflow.keras.models import Model\n",
        "from tensorflow.keras.layers import Input, Flatten, Dense, Lambda\n",
        "\n",
        "# Load MobileNet from TensorFlow Hub\n",
        "mobile_net = hub.KerasLayer(\"https://tfhub.dev/google/tf2-preview/mobilenet_v2/classification/4\",\n",
        "                            trainable=False)\n",
        "\n",
        "# Define the input layer\n",
        "input_layer = Input(shape=(224, 224, 3))\n",
        "\n",
        "# Wrap the KerasLayer with Lambda\n",
        "x = Lambda(lambda img: mobile_net(img))(input_layer)\n",
        "x = Flatten()(x)\n",
        "x = Dense(128, activation='relu')(x)\n",
        "\n",
        "# Create the model\n",
        "model = Model(inputs=input_layer, outputs=x)\n",
        "\n",
        "# Summary\n",
        "model.summary()\n"
      ],
      "metadata": {
        "colab": {
          "base_uri": "https://localhost:8080/",
          "height": 257
        },
        "id": "LIGc0ef7nxGp",
        "outputId": "48c93313-337e-4f08-b91b-15399cc2031c"
      },
      "execution_count": 36,
      "outputs": [
        {
          "output_type": "display_data",
          "data": {
            "text/plain": [
              "\u001b[1mModel: \"functional\"\u001b[0m\n"
            ],
            "text/html": [
              "<pre style=\"white-space:pre;overflow-x:auto;line-height:normal;font-family:Menlo,'DejaVu Sans Mono',consolas,'Courier New',monospace\"><span style=\"font-weight: bold\">Model: \"functional\"</span>\n",
              "</pre>\n"
            ]
          },
          "metadata": {}
        },
        {
          "output_type": "display_data",
          "data": {
            "text/plain": [
              "┏━━━━━━━━━━━━━━━━━━━━━━━━━━━━━━━━━━━━━━┳━━━━━━━━━━━━━━━━━━━━━━━━━━━━━┳━━━━━━━━━━━━━━━━━┓\n",
              "┃\u001b[1m \u001b[0m\u001b[1mLayer (type)                        \u001b[0m\u001b[1m \u001b[0m┃\u001b[1m \u001b[0m\u001b[1mOutput Shape               \u001b[0m\u001b[1m \u001b[0m┃\u001b[1m \u001b[0m\u001b[1m        Param #\u001b[0m\u001b[1m \u001b[0m┃\n",
              "┡━━━━━━━━━━━━━━━━━━━━━━━━━━━━━━━━━━━━━━╇━━━━━━━━━━━━━━━━━━━━━━━━━━━━━╇━━━━━━━━━━━━━━━━━┩\n",
              "│ input_layer_2 (\u001b[38;5;33mInputLayer\u001b[0m)           │ (\u001b[38;5;45mNone\u001b[0m, \u001b[38;5;34m224\u001b[0m, \u001b[38;5;34m224\u001b[0m, \u001b[38;5;34m3\u001b[0m)         │               \u001b[38;5;34m0\u001b[0m │\n",
              "├──────────────────────────────────────┼─────────────────────────────┼─────────────────┤\n",
              "│ lambda (\u001b[38;5;33mLambda\u001b[0m)                      │ (\u001b[38;5;45mNone\u001b[0m, \u001b[38;5;34m1001\u001b[0m)                │               \u001b[38;5;34m0\u001b[0m │\n",
              "├──────────────────────────────────────┼─────────────────────────────┼─────────────────┤\n",
              "│ flatten_2 (\u001b[38;5;33mFlatten\u001b[0m)                  │ (\u001b[38;5;45mNone\u001b[0m, \u001b[38;5;34m1001\u001b[0m)                │               \u001b[38;5;34m0\u001b[0m │\n",
              "├──────────────────────────────────────┼─────────────────────────────┼─────────────────┤\n",
              "│ dense_7 (\u001b[38;5;33mDense\u001b[0m)                      │ (\u001b[38;5;45mNone\u001b[0m, \u001b[38;5;34m128\u001b[0m)                 │         \u001b[38;5;34m128,256\u001b[0m │\n",
              "└──────────────────────────────────────┴─────────────────────────────┴─────────────────┘\n"
            ],
            "text/html": [
              "<pre style=\"white-space:pre;overflow-x:auto;line-height:normal;font-family:Menlo,'DejaVu Sans Mono',consolas,'Courier New',monospace\">┏━━━━━━━━━━━━━━━━━━━━━━━━━━━━━━━━━━━━━━┳━━━━━━━━━━━━━━━━━━━━━━━━━━━━━┳━━━━━━━━━━━━━━━━━┓\n",
              "┃<span style=\"font-weight: bold\"> Layer (type)                         </span>┃<span style=\"font-weight: bold\"> Output Shape                </span>┃<span style=\"font-weight: bold\">         Param # </span>┃\n",
              "┡━━━━━━━━━━━━━━━━━━━━━━━━━━━━━━━━━━━━━━╇━━━━━━━━━━━━━━━━━━━━━━━━━━━━━╇━━━━━━━━━━━━━━━━━┩\n",
              "│ input_layer_2 (<span style=\"color: #0087ff; text-decoration-color: #0087ff\">InputLayer</span>)           │ (<span style=\"color: #00d7ff; text-decoration-color: #00d7ff\">None</span>, <span style=\"color: #00af00; text-decoration-color: #00af00\">224</span>, <span style=\"color: #00af00; text-decoration-color: #00af00\">224</span>, <span style=\"color: #00af00; text-decoration-color: #00af00\">3</span>)         │               <span style=\"color: #00af00; text-decoration-color: #00af00\">0</span> │\n",
              "├──────────────────────────────────────┼─────────────────────────────┼─────────────────┤\n",
              "│ lambda (<span style=\"color: #0087ff; text-decoration-color: #0087ff\">Lambda</span>)                      │ (<span style=\"color: #00d7ff; text-decoration-color: #00d7ff\">None</span>, <span style=\"color: #00af00; text-decoration-color: #00af00\">1001</span>)                │               <span style=\"color: #00af00; text-decoration-color: #00af00\">0</span> │\n",
              "├──────────────────────────────────────┼─────────────────────────────┼─────────────────┤\n",
              "│ flatten_2 (<span style=\"color: #0087ff; text-decoration-color: #0087ff\">Flatten</span>)                  │ (<span style=\"color: #00d7ff; text-decoration-color: #00d7ff\">None</span>, <span style=\"color: #00af00; text-decoration-color: #00af00\">1001</span>)                │               <span style=\"color: #00af00; text-decoration-color: #00af00\">0</span> │\n",
              "├──────────────────────────────────────┼─────────────────────────────┼─────────────────┤\n",
              "│ dense_7 (<span style=\"color: #0087ff; text-decoration-color: #0087ff\">Dense</span>)                      │ (<span style=\"color: #00d7ff; text-decoration-color: #00d7ff\">None</span>, <span style=\"color: #00af00; text-decoration-color: #00af00\">128</span>)                 │         <span style=\"color: #00af00; text-decoration-color: #00af00\">128,256</span> │\n",
              "└──────────────────────────────────────┴─────────────────────────────┴─────────────────┘\n",
              "</pre>\n"
            ]
          },
          "metadata": {}
        },
        {
          "output_type": "display_data",
          "data": {
            "text/plain": [
              "\u001b[1m Total params: \u001b[0m\u001b[38;5;34m128,256\u001b[0m (501.00 KB)\n"
            ],
            "text/html": [
              "<pre style=\"white-space:pre;overflow-x:auto;line-height:normal;font-family:Menlo,'DejaVu Sans Mono',consolas,'Courier New',monospace\"><span style=\"font-weight: bold\"> Total params: </span><span style=\"color: #00af00; text-decoration-color: #00af00\">128,256</span> (501.00 KB)\n",
              "</pre>\n"
            ]
          },
          "metadata": {}
        },
        {
          "output_type": "display_data",
          "data": {
            "text/plain": [
              "\u001b[1m Trainable params: \u001b[0m\u001b[38;5;34m128,256\u001b[0m (501.00 KB)\n"
            ],
            "text/html": [
              "<pre style=\"white-space:pre;overflow-x:auto;line-height:normal;font-family:Menlo,'DejaVu Sans Mono',consolas,'Courier New',monospace\"><span style=\"font-weight: bold\"> Trainable params: </span><span style=\"color: #00af00; text-decoration-color: #00af00\">128,256</span> (501.00 KB)\n",
              "</pre>\n"
            ]
          },
          "metadata": {}
        },
        {
          "output_type": "display_data",
          "data": {
            "text/plain": [
              "\u001b[1m Non-trainable params: \u001b[0m\u001b[38;5;34m0\u001b[0m (0.00 B)\n"
            ],
            "text/html": [
              "<pre style=\"white-space:pre;overflow-x:auto;line-height:normal;font-family:Menlo,'DejaVu Sans Mono',consolas,'Courier New',monospace\"><span style=\"font-weight: bold\"> Non-trainable params: </span><span style=\"color: #00af00; text-decoration-color: #00af00\">0</span> (0.00 B)\n",
              "</pre>\n"
            ]
          },
          "metadata": {}
        }
      ]
    },
    {
      "cell_type": "code",
      "source": [
        "model.compile(\n",
        "    optimizer=\"adam\",\n",
        "    loss=tf.keras.losses.SparseCategoricalCrossentropy(from_logits=True),\n",
        "    metrics=['acc']\n",
        ")\n"
      ],
      "metadata": {
        "id": "bWdwqSAzonMz"
      },
      "execution_count": 37,
      "outputs": []
    },
    {
      "cell_type": "code",
      "source": [
        "history = model.fit(X_train, y_train, epochs=10, validation_data=(X_val, y_val))"
      ],
      "metadata": {
        "colab": {
          "base_uri": "https://localhost:8080/"
        },
        "id": "Mlu4wnKjNw0i",
        "outputId": "e7e272ab-00ec-4637-9950-36a2870009bb"
      },
      "execution_count": 41,
      "outputs": [
        {
          "output_type": "stream",
          "name": "stdout",
          "text": [
            "Epoch 1/10\n",
            "\u001b[1m71/71\u001b[0m \u001b[32m━━━━━━━━━━━━━━━━━━━━\u001b[0m\u001b[37m\u001b[0m \u001b[1m108s\u001b[0m 2s/step - acc: 0.9776 - loss: 0.0663 - val_acc: 0.9628 - val_loss: 0.1103\n",
            "Epoch 2/10\n",
            "\u001b[1m71/71\u001b[0m \u001b[32m━━━━━━━━━━━━━━━━━━━━\u001b[0m\u001b[37m\u001b[0m \u001b[1m115s\u001b[0m 1s/step - acc: 0.9775 - loss: 0.0780 - val_acc: 0.9415 - val_loss: 0.1598\n",
            "Epoch 3/10\n",
            "\u001b[1m71/71\u001b[0m \u001b[32m━━━━━━━━━━━━━━━━━━━━\u001b[0m\u001b[37m\u001b[0m \u001b[1m86s\u001b[0m 1s/step - acc: 0.9778 - loss: 0.0764 - val_acc: 0.9468 - val_loss: 0.1039\n",
            "Epoch 4/10\n",
            "\u001b[1m71/71\u001b[0m \u001b[32m━━━━━━━━━━━━━━━━━━━━\u001b[0m\u001b[37m\u001b[0m \u001b[1m140s\u001b[0m 1s/step - acc: 0.9852 - loss: 0.0596 - val_acc: 0.9468 - val_loss: 0.1258\n",
            "Epoch 5/10\n",
            "\u001b[1m71/71\u001b[0m \u001b[32m━━━━━━━━━━━━━━━━━━━━\u001b[0m\u001b[37m\u001b[0m \u001b[1m138s\u001b[0m 1s/step - acc: 0.9852 - loss: 0.0527 - val_acc: 0.9574 - val_loss: 0.0980\n",
            "Epoch 6/10\n",
            "\u001b[1m71/71\u001b[0m \u001b[32m━━━━━━━━━━━━━━━━━━━━\u001b[0m\u001b[37m\u001b[0m \u001b[1m77s\u001b[0m 1s/step - acc: 0.9796 - loss: 0.0608 - val_acc: 0.9415 - val_loss: 0.1325\n",
            "Epoch 7/10\n",
            "\u001b[1m71/71\u001b[0m \u001b[32m━━━━━━━━━━━━━━━━━━━━\u001b[0m\u001b[37m\u001b[0m \u001b[1m72s\u001b[0m 1s/step - acc: 0.9846 - loss: 0.0557 - val_acc: 0.9840 - val_loss: 0.0854\n",
            "Epoch 8/10\n",
            "\u001b[1m71/71\u001b[0m \u001b[32m━━━━━━━━━━━━━━━━━━━━\u001b[0m\u001b[37m\u001b[0m \u001b[1m84s\u001b[0m 1s/step - acc: 0.9855 - loss: 0.0547 - val_acc: 0.9574 - val_loss: 0.1018\n",
            "Epoch 9/10\n",
            "\u001b[1m71/71\u001b[0m \u001b[32m━━━━━━━━━━━━━━━━━━━━\u001b[0m\u001b[37m\u001b[0m \u001b[1m81s\u001b[0m 1s/step - acc: 0.9823 - loss: 0.0539 - val_acc: 0.9415 - val_loss: 0.1226\n",
            "Epoch 10/10\n",
            "\u001b[1m71/71\u001b[0m \u001b[32m━━━━━━━━━━━━━━━━━━━━\u001b[0m\u001b[37m\u001b[0m \u001b[1m81s\u001b[0m 1s/step - acc: 0.9884 - loss: 0.0463 - val_acc: 0.9362 - val_loss: 0.1512\n"
          ]
        }
      ]
    },
    {
      "cell_type": "code",
      "source": [
        "model.evaluate(X_test,y_test)"
      ],
      "metadata": {
        "colab": {
          "base_uri": "https://localhost:8080/"
        },
        "id": "FGrFTZU9eOWm",
        "outputId": "fd3dc124-8a41-4159-c67e-4136047022dd"
      },
      "execution_count": 43,
      "outputs": [
        {
          "output_type": "stream",
          "name": "stdout",
          "text": [
            "\u001b[1m18/18\u001b[0m \u001b[32m━━━━━━━━━━━━━━━━━━━━\u001b[0m\u001b[37m\u001b[0m \u001b[1m17s\u001b[0m 929ms/step - acc: 0.9440 - loss: 0.1741\n"
          ]
        },
        {
          "output_type": "execute_result",
          "data": {
            "text/plain": [
              "[0.17355190217494965, 0.9412811398506165]"
            ]
          },
          "metadata": {},
          "execution_count": 43
        }
      ]
    },
    {
      "cell_type": "code",
      "source": [
        "from sklearn.metrics import classification_report\n",
        "y_pred = model.predict(X_test, batch_size=64, verbose=1)\n",
        "y_pred_bool = np.argmax(y_pred, axis=1)\n",
        "print(classification_report(y_test, y_pred_bool))"
      ],
      "metadata": {
        "colab": {
          "base_uri": "https://localhost:8080/"
        },
        "id": "j72B_gvLN-0M",
        "outputId": "6fe57fa6-2f1d-47c3-c756-109c5dff9e4a"
      },
      "execution_count": 44,
      "outputs": [
        {
          "output_type": "stream",
          "name": "stdout",
          "text": [
            "\u001b[1m9/9\u001b[0m \u001b[32m━━━━━━━━━━━━━━━━━━━━\u001b[0m\u001b[37m\u001b[0m \u001b[1m20s\u001b[0m 2s/step\n",
            "              precision    recall  f1-score   support\n",
            "\n",
            "           0       0.97      0.86      0.91       114\n",
            "           1       0.93      0.97      0.95       110\n",
            "           2       0.99      0.98      0.99       121\n",
            "           3       0.96      0.90      0.93       103\n",
            "           4       0.87      0.98      0.92       114\n",
            "\n",
            "    accuracy                           0.94       562\n",
            "   macro avg       0.94      0.94      0.94       562\n",
            "weighted avg       0.94      0.94      0.94       562\n",
            "\n"
          ]
        }
      ]
    },
    {
      "cell_type": "code",
      "source": [
        "from plotly.offline import iplot, init_notebook_mode\n",
        "import plotly.express as px\n",
        "import pandas as pd\n",
        "\n",
        "init_notebook_mode(connected=True)\n",
        "\n",
        "acc = pd.DataFrame({'train': history.history['acc'], 'val': history.history['val_acc']})\n",
        "\n",
        "fig = px.line(acc, x=acc.index, y=acc.columns[0::], title='Training and Evaluation Accuracy every Epoch', markers=True)\n",
        "fig.show()\n"
      ],
      "metadata": {
        "colab": {
          "base_uri": "https://localhost:8080/",
          "height": 542
        },
        "id": "KUxmLoZxOS18",
        "outputId": "65ac4e12-332b-4099-a879-f82f85137783"
      },
      "execution_count": 47,
      "outputs": [
        {
          "output_type": "display_data",
          "data": {
            "text/html": [
              "        <script type=\"text/javascript\">\n",
              "        window.PlotlyConfig = {MathJaxConfig: 'local'};\n",
              "        if (window.MathJax && window.MathJax.Hub && window.MathJax.Hub.Config) {window.MathJax.Hub.Config({SVG: {font: \"STIX-Web\"}});}\n",
              "        if (typeof require !== 'undefined') {\n",
              "        require.undef(\"plotly\");\n",
              "        requirejs.config({\n",
              "            paths: {\n",
              "                'plotly': ['https://cdn.plot.ly/plotly-2.35.2.min']\n",
              "            }\n",
              "        });\n",
              "        require(['plotly'], function(Plotly) {\n",
              "            window._Plotly = Plotly;\n",
              "        });\n",
              "        }\n",
              "        </script>\n",
              "        "
            ]
          },
          "metadata": {}
        },
        {
          "output_type": "display_data",
          "data": {
            "application/vnd.plotly.v1+json": {
              "data": [
                {
                  "hovertemplate": "variable=train<br>index=%{x}<br>value=%{y}<extra></extra>",
                  "legendgroup": "train",
                  "line": {
                    "color": "#636efa",
                    "dash": "solid"
                  },
                  "marker": {
                    "symbol": "circle"
                  },
                  "mode": "lines+markers",
                  "name": "train",
                  "orientation": "v",
                  "showlegend": true,
                  "x": [
                    0,
                    1,
                    2,
                    3,
                    4,
                    5,
                    6,
                    7,
                    8,
                    9
                  ],
                  "xaxis": "x",
                  "y": [
                    0.9755555391311646,
                    0.9795555472373962,
                    0.9760000109672546,
                    0.9817777872085571,
                    0.9848889112472534,
                    0.981333315372467,
                    0.9822221994400024,
                    0.9871110916137695,
                    0.9875555634498596,
                    0.9879999756813049
                  ],
                  "yaxis": "y",
                  "type": "scatter"
                },
                {
                  "hovertemplate": "variable=val<br>index=%{x}<br>value=%{y}<extra></extra>",
                  "legendgroup": "val",
                  "line": {
                    "color": "#EF553B",
                    "dash": "solid"
                  },
                  "marker": {
                    "symbol": "circle"
                  },
                  "mode": "lines+markers",
                  "name": "val",
                  "orientation": "v",
                  "showlegend": true,
                  "x": [
                    0,
                    1,
                    2,
                    3,
                    4,
                    5,
                    6,
                    7,
                    8,
                    9
                  ],
                  "xaxis": "x",
                  "y": [
                    0.9627659320831299,
                    0.9414893388748169,
                    0.9468085169792175,
                    0.9468085169792175,
                    0.957446813583374,
                    0.9414893388748169,
                    0.9840425252914429,
                    0.957446813583374,
                    0.9414893388748169,
                    0.936170220375061
                  ],
                  "yaxis": "y",
                  "type": "scatter"
                }
              ],
              "layout": {
                "template": {
                  "data": {
                    "histogram2dcontour": [
                      {
                        "type": "histogram2dcontour",
                        "colorbar": {
                          "outlinewidth": 0,
                          "ticks": ""
                        },
                        "colorscale": [
                          [
                            0,
                            "#0d0887"
                          ],
                          [
                            0.1111111111111111,
                            "#46039f"
                          ],
                          [
                            0.2222222222222222,
                            "#7201a8"
                          ],
                          [
                            0.3333333333333333,
                            "#9c179e"
                          ],
                          [
                            0.4444444444444444,
                            "#bd3786"
                          ],
                          [
                            0.5555555555555556,
                            "#d8576b"
                          ],
                          [
                            0.6666666666666666,
                            "#ed7953"
                          ],
                          [
                            0.7777777777777778,
                            "#fb9f3a"
                          ],
                          [
                            0.8888888888888888,
                            "#fdca26"
                          ],
                          [
                            1,
                            "#f0f921"
                          ]
                        ]
                      }
                    ],
                    "choropleth": [
                      {
                        "type": "choropleth",
                        "colorbar": {
                          "outlinewidth": 0,
                          "ticks": ""
                        }
                      }
                    ],
                    "histogram2d": [
                      {
                        "type": "histogram2d",
                        "colorbar": {
                          "outlinewidth": 0,
                          "ticks": ""
                        },
                        "colorscale": [
                          [
                            0,
                            "#0d0887"
                          ],
                          [
                            0.1111111111111111,
                            "#46039f"
                          ],
                          [
                            0.2222222222222222,
                            "#7201a8"
                          ],
                          [
                            0.3333333333333333,
                            "#9c179e"
                          ],
                          [
                            0.4444444444444444,
                            "#bd3786"
                          ],
                          [
                            0.5555555555555556,
                            "#d8576b"
                          ],
                          [
                            0.6666666666666666,
                            "#ed7953"
                          ],
                          [
                            0.7777777777777778,
                            "#fb9f3a"
                          ],
                          [
                            0.8888888888888888,
                            "#fdca26"
                          ],
                          [
                            1,
                            "#f0f921"
                          ]
                        ]
                      }
                    ],
                    "heatmap": [
                      {
                        "type": "heatmap",
                        "colorbar": {
                          "outlinewidth": 0,
                          "ticks": ""
                        },
                        "colorscale": [
                          [
                            0,
                            "#0d0887"
                          ],
                          [
                            0.1111111111111111,
                            "#46039f"
                          ],
                          [
                            0.2222222222222222,
                            "#7201a8"
                          ],
                          [
                            0.3333333333333333,
                            "#9c179e"
                          ],
                          [
                            0.4444444444444444,
                            "#bd3786"
                          ],
                          [
                            0.5555555555555556,
                            "#d8576b"
                          ],
                          [
                            0.6666666666666666,
                            "#ed7953"
                          ],
                          [
                            0.7777777777777778,
                            "#fb9f3a"
                          ],
                          [
                            0.8888888888888888,
                            "#fdca26"
                          ],
                          [
                            1,
                            "#f0f921"
                          ]
                        ]
                      }
                    ],
                    "heatmapgl": [
                      {
                        "type": "heatmapgl",
                        "colorbar": {
                          "outlinewidth": 0,
                          "ticks": ""
                        },
                        "colorscale": [
                          [
                            0,
                            "#0d0887"
                          ],
                          [
                            0.1111111111111111,
                            "#46039f"
                          ],
                          [
                            0.2222222222222222,
                            "#7201a8"
                          ],
                          [
                            0.3333333333333333,
                            "#9c179e"
                          ],
                          [
                            0.4444444444444444,
                            "#bd3786"
                          ],
                          [
                            0.5555555555555556,
                            "#d8576b"
                          ],
                          [
                            0.6666666666666666,
                            "#ed7953"
                          ],
                          [
                            0.7777777777777778,
                            "#fb9f3a"
                          ],
                          [
                            0.8888888888888888,
                            "#fdca26"
                          ],
                          [
                            1,
                            "#f0f921"
                          ]
                        ]
                      }
                    ],
                    "contourcarpet": [
                      {
                        "type": "contourcarpet",
                        "colorbar": {
                          "outlinewidth": 0,
                          "ticks": ""
                        }
                      }
                    ],
                    "contour": [
                      {
                        "type": "contour",
                        "colorbar": {
                          "outlinewidth": 0,
                          "ticks": ""
                        },
                        "colorscale": [
                          [
                            0,
                            "#0d0887"
                          ],
                          [
                            0.1111111111111111,
                            "#46039f"
                          ],
                          [
                            0.2222222222222222,
                            "#7201a8"
                          ],
                          [
                            0.3333333333333333,
                            "#9c179e"
                          ],
                          [
                            0.4444444444444444,
                            "#bd3786"
                          ],
                          [
                            0.5555555555555556,
                            "#d8576b"
                          ],
                          [
                            0.6666666666666666,
                            "#ed7953"
                          ],
                          [
                            0.7777777777777778,
                            "#fb9f3a"
                          ],
                          [
                            0.8888888888888888,
                            "#fdca26"
                          ],
                          [
                            1,
                            "#f0f921"
                          ]
                        ]
                      }
                    ],
                    "surface": [
                      {
                        "type": "surface",
                        "colorbar": {
                          "outlinewidth": 0,
                          "ticks": ""
                        },
                        "colorscale": [
                          [
                            0,
                            "#0d0887"
                          ],
                          [
                            0.1111111111111111,
                            "#46039f"
                          ],
                          [
                            0.2222222222222222,
                            "#7201a8"
                          ],
                          [
                            0.3333333333333333,
                            "#9c179e"
                          ],
                          [
                            0.4444444444444444,
                            "#bd3786"
                          ],
                          [
                            0.5555555555555556,
                            "#d8576b"
                          ],
                          [
                            0.6666666666666666,
                            "#ed7953"
                          ],
                          [
                            0.7777777777777778,
                            "#fb9f3a"
                          ],
                          [
                            0.8888888888888888,
                            "#fdca26"
                          ],
                          [
                            1,
                            "#f0f921"
                          ]
                        ]
                      }
                    ],
                    "mesh3d": [
                      {
                        "type": "mesh3d",
                        "colorbar": {
                          "outlinewidth": 0,
                          "ticks": ""
                        }
                      }
                    ],
                    "scatter": [
                      {
                        "fillpattern": {
                          "fillmode": "overlay",
                          "size": 10,
                          "solidity": 0.2
                        },
                        "type": "scatter"
                      }
                    ],
                    "parcoords": [
                      {
                        "type": "parcoords",
                        "line": {
                          "colorbar": {
                            "outlinewidth": 0,
                            "ticks": ""
                          }
                        }
                      }
                    ],
                    "scatterpolargl": [
                      {
                        "type": "scatterpolargl",
                        "marker": {
                          "colorbar": {
                            "outlinewidth": 0,
                            "ticks": ""
                          }
                        }
                      }
                    ],
                    "bar": [
                      {
                        "error_x": {
                          "color": "#2a3f5f"
                        },
                        "error_y": {
                          "color": "#2a3f5f"
                        },
                        "marker": {
                          "line": {
                            "color": "#E5ECF6",
                            "width": 0.5
                          },
                          "pattern": {
                            "fillmode": "overlay",
                            "size": 10,
                            "solidity": 0.2
                          }
                        },
                        "type": "bar"
                      }
                    ],
                    "scattergeo": [
                      {
                        "type": "scattergeo",
                        "marker": {
                          "colorbar": {
                            "outlinewidth": 0,
                            "ticks": ""
                          }
                        }
                      }
                    ],
                    "scatterpolar": [
                      {
                        "type": "scatterpolar",
                        "marker": {
                          "colorbar": {
                            "outlinewidth": 0,
                            "ticks": ""
                          }
                        }
                      }
                    ],
                    "histogram": [
                      {
                        "marker": {
                          "pattern": {
                            "fillmode": "overlay",
                            "size": 10,
                            "solidity": 0.2
                          }
                        },
                        "type": "histogram"
                      }
                    ],
                    "scattergl": [
                      {
                        "type": "scattergl",
                        "marker": {
                          "colorbar": {
                            "outlinewidth": 0,
                            "ticks": ""
                          }
                        }
                      }
                    ],
                    "scatter3d": [
                      {
                        "type": "scatter3d",
                        "line": {
                          "colorbar": {
                            "outlinewidth": 0,
                            "ticks": ""
                          }
                        },
                        "marker": {
                          "colorbar": {
                            "outlinewidth": 0,
                            "ticks": ""
                          }
                        }
                      }
                    ],
                    "scattermapbox": [
                      {
                        "type": "scattermapbox",
                        "marker": {
                          "colorbar": {
                            "outlinewidth": 0,
                            "ticks": ""
                          }
                        }
                      }
                    ],
                    "scatterternary": [
                      {
                        "type": "scatterternary",
                        "marker": {
                          "colorbar": {
                            "outlinewidth": 0,
                            "ticks": ""
                          }
                        }
                      }
                    ],
                    "scattercarpet": [
                      {
                        "type": "scattercarpet",
                        "marker": {
                          "colorbar": {
                            "outlinewidth": 0,
                            "ticks": ""
                          }
                        }
                      }
                    ],
                    "carpet": [
                      {
                        "aaxis": {
                          "endlinecolor": "#2a3f5f",
                          "gridcolor": "white",
                          "linecolor": "white",
                          "minorgridcolor": "white",
                          "startlinecolor": "#2a3f5f"
                        },
                        "baxis": {
                          "endlinecolor": "#2a3f5f",
                          "gridcolor": "white",
                          "linecolor": "white",
                          "minorgridcolor": "white",
                          "startlinecolor": "#2a3f5f"
                        },
                        "type": "carpet"
                      }
                    ],
                    "table": [
                      {
                        "cells": {
                          "fill": {
                            "color": "#EBF0F8"
                          },
                          "line": {
                            "color": "white"
                          }
                        },
                        "header": {
                          "fill": {
                            "color": "#C8D4E3"
                          },
                          "line": {
                            "color": "white"
                          }
                        },
                        "type": "table"
                      }
                    ],
                    "barpolar": [
                      {
                        "marker": {
                          "line": {
                            "color": "#E5ECF6",
                            "width": 0.5
                          },
                          "pattern": {
                            "fillmode": "overlay",
                            "size": 10,
                            "solidity": 0.2
                          }
                        },
                        "type": "barpolar"
                      }
                    ],
                    "pie": [
                      {
                        "automargin": true,
                        "type": "pie"
                      }
                    ]
                  },
                  "layout": {
                    "autotypenumbers": "strict",
                    "colorway": [
                      "#636efa",
                      "#EF553B",
                      "#00cc96",
                      "#ab63fa",
                      "#FFA15A",
                      "#19d3f3",
                      "#FF6692",
                      "#B6E880",
                      "#FF97FF",
                      "#FECB52"
                    ],
                    "font": {
                      "color": "#2a3f5f"
                    },
                    "hovermode": "closest",
                    "hoverlabel": {
                      "align": "left"
                    },
                    "paper_bgcolor": "white",
                    "plot_bgcolor": "#E5ECF6",
                    "polar": {
                      "bgcolor": "#E5ECF6",
                      "angularaxis": {
                        "gridcolor": "white",
                        "linecolor": "white",
                        "ticks": ""
                      },
                      "radialaxis": {
                        "gridcolor": "white",
                        "linecolor": "white",
                        "ticks": ""
                      }
                    },
                    "ternary": {
                      "bgcolor": "#E5ECF6",
                      "aaxis": {
                        "gridcolor": "white",
                        "linecolor": "white",
                        "ticks": ""
                      },
                      "baxis": {
                        "gridcolor": "white",
                        "linecolor": "white",
                        "ticks": ""
                      },
                      "caxis": {
                        "gridcolor": "white",
                        "linecolor": "white",
                        "ticks": ""
                      }
                    },
                    "coloraxis": {
                      "colorbar": {
                        "outlinewidth": 0,
                        "ticks": ""
                      }
                    },
                    "colorscale": {
                      "sequential": [
                        [
                          0,
                          "#0d0887"
                        ],
                        [
                          0.1111111111111111,
                          "#46039f"
                        ],
                        [
                          0.2222222222222222,
                          "#7201a8"
                        ],
                        [
                          0.3333333333333333,
                          "#9c179e"
                        ],
                        [
                          0.4444444444444444,
                          "#bd3786"
                        ],
                        [
                          0.5555555555555556,
                          "#d8576b"
                        ],
                        [
                          0.6666666666666666,
                          "#ed7953"
                        ],
                        [
                          0.7777777777777778,
                          "#fb9f3a"
                        ],
                        [
                          0.8888888888888888,
                          "#fdca26"
                        ],
                        [
                          1,
                          "#f0f921"
                        ]
                      ],
                      "sequentialminus": [
                        [
                          0,
                          "#0d0887"
                        ],
                        [
                          0.1111111111111111,
                          "#46039f"
                        ],
                        [
                          0.2222222222222222,
                          "#7201a8"
                        ],
                        [
                          0.3333333333333333,
                          "#9c179e"
                        ],
                        [
                          0.4444444444444444,
                          "#bd3786"
                        ],
                        [
                          0.5555555555555556,
                          "#d8576b"
                        ],
                        [
                          0.6666666666666666,
                          "#ed7953"
                        ],
                        [
                          0.7777777777777778,
                          "#fb9f3a"
                        ],
                        [
                          0.8888888888888888,
                          "#fdca26"
                        ],
                        [
                          1,
                          "#f0f921"
                        ]
                      ],
                      "diverging": [
                        [
                          0,
                          "#8e0152"
                        ],
                        [
                          0.1,
                          "#c51b7d"
                        ],
                        [
                          0.2,
                          "#de77ae"
                        ],
                        [
                          0.3,
                          "#f1b6da"
                        ],
                        [
                          0.4,
                          "#fde0ef"
                        ],
                        [
                          0.5,
                          "#f7f7f7"
                        ],
                        [
                          0.6,
                          "#e6f5d0"
                        ],
                        [
                          0.7,
                          "#b8e186"
                        ],
                        [
                          0.8,
                          "#7fbc41"
                        ],
                        [
                          0.9,
                          "#4d9221"
                        ],
                        [
                          1,
                          "#276419"
                        ]
                      ]
                    },
                    "xaxis": {
                      "gridcolor": "white",
                      "linecolor": "white",
                      "ticks": "",
                      "title": {
                        "standoff": 15
                      },
                      "zerolinecolor": "white",
                      "automargin": true,
                      "zerolinewidth": 2
                    },
                    "yaxis": {
                      "gridcolor": "white",
                      "linecolor": "white",
                      "ticks": "",
                      "title": {
                        "standoff": 15
                      },
                      "zerolinecolor": "white",
                      "automargin": true,
                      "zerolinewidth": 2
                    },
                    "scene": {
                      "xaxis": {
                        "backgroundcolor": "#E5ECF6",
                        "gridcolor": "white",
                        "linecolor": "white",
                        "showbackground": true,
                        "ticks": "",
                        "zerolinecolor": "white",
                        "gridwidth": 2
                      },
                      "yaxis": {
                        "backgroundcolor": "#E5ECF6",
                        "gridcolor": "white",
                        "linecolor": "white",
                        "showbackground": true,
                        "ticks": "",
                        "zerolinecolor": "white",
                        "gridwidth": 2
                      },
                      "zaxis": {
                        "backgroundcolor": "#E5ECF6",
                        "gridcolor": "white",
                        "linecolor": "white",
                        "showbackground": true,
                        "ticks": "",
                        "zerolinecolor": "white",
                        "gridwidth": 2
                      }
                    },
                    "shapedefaults": {
                      "line": {
                        "color": "#2a3f5f"
                      }
                    },
                    "annotationdefaults": {
                      "arrowcolor": "#2a3f5f",
                      "arrowhead": 0,
                      "arrowwidth": 1
                    },
                    "geo": {
                      "bgcolor": "white",
                      "landcolor": "#E5ECF6",
                      "subunitcolor": "white",
                      "showland": true,
                      "showlakes": true,
                      "lakecolor": "white"
                    },
                    "title": {
                      "x": 0.05
                    },
                    "mapbox": {
                      "style": "light"
                    }
                  }
                },
                "xaxis": {
                  "anchor": "y",
                  "domain": [
                    0,
                    1
                  ],
                  "title": {
                    "text": "index"
                  }
                },
                "yaxis": {
                  "anchor": "x",
                  "domain": [
                    0,
                    1
                  ],
                  "title": {
                    "text": "value"
                  }
                },
                "legend": {
                  "title": {
                    "text": "variable"
                  },
                  "tracegroupgap": 0
                },
                "title": {
                  "text": "Training and Evaluation Accuracy every Epoch"
                }
              },
              "config": {
                "plotlyServerURL": "https://plot.ly"
              }
            },
            "text/html": [
              "<div>                            <div id=\"b4c9162d-69c4-449e-a48b-3c9bd2a5a589\" class=\"plotly-graph-div\" style=\"height:525px; width:100%;\"></div>            <script type=\"text/javascript\">                require([\"plotly\"], function(Plotly) {                    window.PLOTLYENV=window.PLOTLYENV || {};                                    if (document.getElementById(\"b4c9162d-69c4-449e-a48b-3c9bd2a5a589\")) {                    Plotly.newPlot(                        \"b4c9162d-69c4-449e-a48b-3c9bd2a5a589\",                        [{\"hovertemplate\":\"variable=train\\u003cbr\\u003eindex=%{x}\\u003cbr\\u003evalue=%{y}\\u003cextra\\u003e\\u003c\\u002fextra\\u003e\",\"legendgroup\":\"train\",\"line\":{\"color\":\"#636efa\",\"dash\":\"solid\"},\"marker\":{\"symbol\":\"circle\"},\"mode\":\"lines+markers\",\"name\":\"train\",\"orientation\":\"v\",\"showlegend\":true,\"x\":[0,1,2,3,4,5,6,7,8,9],\"xaxis\":\"x\",\"y\":[0.9755555391311646,0.9795555472373962,0.9760000109672546,0.9817777872085571,0.9848889112472534,0.981333315372467,0.9822221994400024,0.9871110916137695,0.9875555634498596,0.9879999756813049],\"yaxis\":\"y\",\"type\":\"scatter\"},{\"hovertemplate\":\"variable=val\\u003cbr\\u003eindex=%{x}\\u003cbr\\u003evalue=%{y}\\u003cextra\\u003e\\u003c\\u002fextra\\u003e\",\"legendgroup\":\"val\",\"line\":{\"color\":\"#EF553B\",\"dash\":\"solid\"},\"marker\":{\"symbol\":\"circle\"},\"mode\":\"lines+markers\",\"name\":\"val\",\"orientation\":\"v\",\"showlegend\":true,\"x\":[0,1,2,3,4,5,6,7,8,9],\"xaxis\":\"x\",\"y\":[0.9627659320831299,0.9414893388748169,0.9468085169792175,0.9468085169792175,0.957446813583374,0.9414893388748169,0.9840425252914429,0.957446813583374,0.9414893388748169,0.936170220375061],\"yaxis\":\"y\",\"type\":\"scatter\"}],                        {\"template\":{\"data\":{\"histogram2dcontour\":[{\"type\":\"histogram2dcontour\",\"colorbar\":{\"outlinewidth\":0,\"ticks\":\"\"},\"colorscale\":[[0.0,\"#0d0887\"],[0.1111111111111111,\"#46039f\"],[0.2222222222222222,\"#7201a8\"],[0.3333333333333333,\"#9c179e\"],[0.4444444444444444,\"#bd3786\"],[0.5555555555555556,\"#d8576b\"],[0.6666666666666666,\"#ed7953\"],[0.7777777777777778,\"#fb9f3a\"],[0.8888888888888888,\"#fdca26\"],[1.0,\"#f0f921\"]]}],\"choropleth\":[{\"type\":\"choropleth\",\"colorbar\":{\"outlinewidth\":0,\"ticks\":\"\"}}],\"histogram2d\":[{\"type\":\"histogram2d\",\"colorbar\":{\"outlinewidth\":0,\"ticks\":\"\"},\"colorscale\":[[0.0,\"#0d0887\"],[0.1111111111111111,\"#46039f\"],[0.2222222222222222,\"#7201a8\"],[0.3333333333333333,\"#9c179e\"],[0.4444444444444444,\"#bd3786\"],[0.5555555555555556,\"#d8576b\"],[0.6666666666666666,\"#ed7953\"],[0.7777777777777778,\"#fb9f3a\"],[0.8888888888888888,\"#fdca26\"],[1.0,\"#f0f921\"]]}],\"heatmap\":[{\"type\":\"heatmap\",\"colorbar\":{\"outlinewidth\":0,\"ticks\":\"\"},\"colorscale\":[[0.0,\"#0d0887\"],[0.1111111111111111,\"#46039f\"],[0.2222222222222222,\"#7201a8\"],[0.3333333333333333,\"#9c179e\"],[0.4444444444444444,\"#bd3786\"],[0.5555555555555556,\"#d8576b\"],[0.6666666666666666,\"#ed7953\"],[0.7777777777777778,\"#fb9f3a\"],[0.8888888888888888,\"#fdca26\"],[1.0,\"#f0f921\"]]}],\"heatmapgl\":[{\"type\":\"heatmapgl\",\"colorbar\":{\"outlinewidth\":0,\"ticks\":\"\"},\"colorscale\":[[0.0,\"#0d0887\"],[0.1111111111111111,\"#46039f\"],[0.2222222222222222,\"#7201a8\"],[0.3333333333333333,\"#9c179e\"],[0.4444444444444444,\"#bd3786\"],[0.5555555555555556,\"#d8576b\"],[0.6666666666666666,\"#ed7953\"],[0.7777777777777778,\"#fb9f3a\"],[0.8888888888888888,\"#fdca26\"],[1.0,\"#f0f921\"]]}],\"contourcarpet\":[{\"type\":\"contourcarpet\",\"colorbar\":{\"outlinewidth\":0,\"ticks\":\"\"}}],\"contour\":[{\"type\":\"contour\",\"colorbar\":{\"outlinewidth\":0,\"ticks\":\"\"},\"colorscale\":[[0.0,\"#0d0887\"],[0.1111111111111111,\"#46039f\"],[0.2222222222222222,\"#7201a8\"],[0.3333333333333333,\"#9c179e\"],[0.4444444444444444,\"#bd3786\"],[0.5555555555555556,\"#d8576b\"],[0.6666666666666666,\"#ed7953\"],[0.7777777777777778,\"#fb9f3a\"],[0.8888888888888888,\"#fdca26\"],[1.0,\"#f0f921\"]]}],\"surface\":[{\"type\":\"surface\",\"colorbar\":{\"outlinewidth\":0,\"ticks\":\"\"},\"colorscale\":[[0.0,\"#0d0887\"],[0.1111111111111111,\"#46039f\"],[0.2222222222222222,\"#7201a8\"],[0.3333333333333333,\"#9c179e\"],[0.4444444444444444,\"#bd3786\"],[0.5555555555555556,\"#d8576b\"],[0.6666666666666666,\"#ed7953\"],[0.7777777777777778,\"#fb9f3a\"],[0.8888888888888888,\"#fdca26\"],[1.0,\"#f0f921\"]]}],\"mesh3d\":[{\"type\":\"mesh3d\",\"colorbar\":{\"outlinewidth\":0,\"ticks\":\"\"}}],\"scatter\":[{\"fillpattern\":{\"fillmode\":\"overlay\",\"size\":10,\"solidity\":0.2},\"type\":\"scatter\"}],\"parcoords\":[{\"type\":\"parcoords\",\"line\":{\"colorbar\":{\"outlinewidth\":0,\"ticks\":\"\"}}}],\"scatterpolargl\":[{\"type\":\"scatterpolargl\",\"marker\":{\"colorbar\":{\"outlinewidth\":0,\"ticks\":\"\"}}}],\"bar\":[{\"error_x\":{\"color\":\"#2a3f5f\"},\"error_y\":{\"color\":\"#2a3f5f\"},\"marker\":{\"line\":{\"color\":\"#E5ECF6\",\"width\":0.5},\"pattern\":{\"fillmode\":\"overlay\",\"size\":10,\"solidity\":0.2}},\"type\":\"bar\"}],\"scattergeo\":[{\"type\":\"scattergeo\",\"marker\":{\"colorbar\":{\"outlinewidth\":0,\"ticks\":\"\"}}}],\"scatterpolar\":[{\"type\":\"scatterpolar\",\"marker\":{\"colorbar\":{\"outlinewidth\":0,\"ticks\":\"\"}}}],\"histogram\":[{\"marker\":{\"pattern\":{\"fillmode\":\"overlay\",\"size\":10,\"solidity\":0.2}},\"type\":\"histogram\"}],\"scattergl\":[{\"type\":\"scattergl\",\"marker\":{\"colorbar\":{\"outlinewidth\":0,\"ticks\":\"\"}}}],\"scatter3d\":[{\"type\":\"scatter3d\",\"line\":{\"colorbar\":{\"outlinewidth\":0,\"ticks\":\"\"}},\"marker\":{\"colorbar\":{\"outlinewidth\":0,\"ticks\":\"\"}}}],\"scattermapbox\":[{\"type\":\"scattermapbox\",\"marker\":{\"colorbar\":{\"outlinewidth\":0,\"ticks\":\"\"}}}],\"scatterternary\":[{\"type\":\"scatterternary\",\"marker\":{\"colorbar\":{\"outlinewidth\":0,\"ticks\":\"\"}}}],\"scattercarpet\":[{\"type\":\"scattercarpet\",\"marker\":{\"colorbar\":{\"outlinewidth\":0,\"ticks\":\"\"}}}],\"carpet\":[{\"aaxis\":{\"endlinecolor\":\"#2a3f5f\",\"gridcolor\":\"white\",\"linecolor\":\"white\",\"minorgridcolor\":\"white\",\"startlinecolor\":\"#2a3f5f\"},\"baxis\":{\"endlinecolor\":\"#2a3f5f\",\"gridcolor\":\"white\",\"linecolor\":\"white\",\"minorgridcolor\":\"white\",\"startlinecolor\":\"#2a3f5f\"},\"type\":\"carpet\"}],\"table\":[{\"cells\":{\"fill\":{\"color\":\"#EBF0F8\"},\"line\":{\"color\":\"white\"}},\"header\":{\"fill\":{\"color\":\"#C8D4E3\"},\"line\":{\"color\":\"white\"}},\"type\":\"table\"}],\"barpolar\":[{\"marker\":{\"line\":{\"color\":\"#E5ECF6\",\"width\":0.5},\"pattern\":{\"fillmode\":\"overlay\",\"size\":10,\"solidity\":0.2}},\"type\":\"barpolar\"}],\"pie\":[{\"automargin\":true,\"type\":\"pie\"}]},\"layout\":{\"autotypenumbers\":\"strict\",\"colorway\":[\"#636efa\",\"#EF553B\",\"#00cc96\",\"#ab63fa\",\"#FFA15A\",\"#19d3f3\",\"#FF6692\",\"#B6E880\",\"#FF97FF\",\"#FECB52\"],\"font\":{\"color\":\"#2a3f5f\"},\"hovermode\":\"closest\",\"hoverlabel\":{\"align\":\"left\"},\"paper_bgcolor\":\"white\",\"plot_bgcolor\":\"#E5ECF6\",\"polar\":{\"bgcolor\":\"#E5ECF6\",\"angularaxis\":{\"gridcolor\":\"white\",\"linecolor\":\"white\",\"ticks\":\"\"},\"radialaxis\":{\"gridcolor\":\"white\",\"linecolor\":\"white\",\"ticks\":\"\"}},\"ternary\":{\"bgcolor\":\"#E5ECF6\",\"aaxis\":{\"gridcolor\":\"white\",\"linecolor\":\"white\",\"ticks\":\"\"},\"baxis\":{\"gridcolor\":\"white\",\"linecolor\":\"white\",\"ticks\":\"\"},\"caxis\":{\"gridcolor\":\"white\",\"linecolor\":\"white\",\"ticks\":\"\"}},\"coloraxis\":{\"colorbar\":{\"outlinewidth\":0,\"ticks\":\"\"}},\"colorscale\":{\"sequential\":[[0.0,\"#0d0887\"],[0.1111111111111111,\"#46039f\"],[0.2222222222222222,\"#7201a8\"],[0.3333333333333333,\"#9c179e\"],[0.4444444444444444,\"#bd3786\"],[0.5555555555555556,\"#d8576b\"],[0.6666666666666666,\"#ed7953\"],[0.7777777777777778,\"#fb9f3a\"],[0.8888888888888888,\"#fdca26\"],[1.0,\"#f0f921\"]],\"sequentialminus\":[[0.0,\"#0d0887\"],[0.1111111111111111,\"#46039f\"],[0.2222222222222222,\"#7201a8\"],[0.3333333333333333,\"#9c179e\"],[0.4444444444444444,\"#bd3786\"],[0.5555555555555556,\"#d8576b\"],[0.6666666666666666,\"#ed7953\"],[0.7777777777777778,\"#fb9f3a\"],[0.8888888888888888,\"#fdca26\"],[1.0,\"#f0f921\"]],\"diverging\":[[0,\"#8e0152\"],[0.1,\"#c51b7d\"],[0.2,\"#de77ae\"],[0.3,\"#f1b6da\"],[0.4,\"#fde0ef\"],[0.5,\"#f7f7f7\"],[0.6,\"#e6f5d0\"],[0.7,\"#b8e186\"],[0.8,\"#7fbc41\"],[0.9,\"#4d9221\"],[1,\"#276419\"]]},\"xaxis\":{\"gridcolor\":\"white\",\"linecolor\":\"white\",\"ticks\":\"\",\"title\":{\"standoff\":15},\"zerolinecolor\":\"white\",\"automargin\":true,\"zerolinewidth\":2},\"yaxis\":{\"gridcolor\":\"white\",\"linecolor\":\"white\",\"ticks\":\"\",\"title\":{\"standoff\":15},\"zerolinecolor\":\"white\",\"automargin\":true,\"zerolinewidth\":2},\"scene\":{\"xaxis\":{\"backgroundcolor\":\"#E5ECF6\",\"gridcolor\":\"white\",\"linecolor\":\"white\",\"showbackground\":true,\"ticks\":\"\",\"zerolinecolor\":\"white\",\"gridwidth\":2},\"yaxis\":{\"backgroundcolor\":\"#E5ECF6\",\"gridcolor\":\"white\",\"linecolor\":\"white\",\"showbackground\":true,\"ticks\":\"\",\"zerolinecolor\":\"white\",\"gridwidth\":2},\"zaxis\":{\"backgroundcolor\":\"#E5ECF6\",\"gridcolor\":\"white\",\"linecolor\":\"white\",\"showbackground\":true,\"ticks\":\"\",\"zerolinecolor\":\"white\",\"gridwidth\":2}},\"shapedefaults\":{\"line\":{\"color\":\"#2a3f5f\"}},\"annotationdefaults\":{\"arrowcolor\":\"#2a3f5f\",\"arrowhead\":0,\"arrowwidth\":1},\"geo\":{\"bgcolor\":\"white\",\"landcolor\":\"#E5ECF6\",\"subunitcolor\":\"white\",\"showland\":true,\"showlakes\":true,\"lakecolor\":\"white\"},\"title\":{\"x\":0.05},\"mapbox\":{\"style\":\"light\"}}},\"xaxis\":{\"anchor\":\"y\",\"domain\":[0.0,1.0],\"title\":{\"text\":\"index\"}},\"yaxis\":{\"anchor\":\"x\",\"domain\":[0.0,1.0],\"title\":{\"text\":\"value\"}},\"legend\":{\"title\":{\"text\":\"variable\"},\"tracegroupgap\":0},\"title\":{\"text\":\"Training and Evaluation Accuracy every Epoch\"}},                        {\"responsive\": true}                    ).then(function(){\n",
              "                            \n",
              "var gd = document.getElementById('b4c9162d-69c4-449e-a48b-3c9bd2a5a589');\n",
              "var x = new MutationObserver(function (mutations, observer) {{\n",
              "        var display = window.getComputedStyle(gd).display;\n",
              "        if (!display || display === 'none') {{\n",
              "            console.log([gd, 'removed!']);\n",
              "            Plotly.purge(gd);\n",
              "            observer.disconnect();\n",
              "        }}\n",
              "}});\n",
              "\n",
              "// Listen for the removal of the full notebook cells\n",
              "var notebookContainer = gd.closest('#notebook-container');\n",
              "if (notebookContainer) {{\n",
              "    x.observe(notebookContainer, {childList: true});\n",
              "}}\n",
              "\n",
              "// Listen for the clearing of the current output cell\n",
              "var outputEl = gd.closest('.output');\n",
              "if (outputEl) {{\n",
              "    x.observe(outputEl, {childList: true});\n",
              "}}\n",
              "\n",
              "                        })                };                });            </script>        </div>"
            ]
          },
          "metadata": {}
        }
      ]
    },
    {
      "cell_type": "code",
      "source": [
        "loss = pd.DataFrame({'train': history.history['loss'], 'val': history.history['val_loss']})\n",
        "\n",
        "fig = px.line(loss, x=loss.index, y=loss.columns[0::], title='Training and Evaluation Loss every Epoch', markers=True)"
      ],
      "metadata": {
        "id": "lgQJco_SOy7C"
      },
      "execution_count": 48,
      "outputs": []
    },
    {
      "cell_type": "code",
      "source": [
        "X_test[0]"
      ],
      "metadata": {
        "colab": {
          "base_uri": "https://localhost:8080/",
          "height": 265
        },
        "id": "tfbgttoFOynR",
        "outputId": "fc1cc754-1151-49eb-8c73-ff5cc6ab82cc"
      },
      "execution_count": 49,
      "outputs": [
        {
          "output_type": "execute_result",
          "data": {
            "text/plain": [
              "array([[[0, 0, 0],\n",
              "        [0, 0, 0],\n",
              "        [0, 0, 0],\n",
              "        ...,\n",
              "        [0, 0, 0],\n",
              "        [0, 0, 0],\n",
              "        [0, 0, 0]],\n",
              "\n",
              "       [[0, 0, 0],\n",
              "        [0, 0, 0],\n",
              "        [0, 0, 0],\n",
              "        ...,\n",
              "        [0, 0, 0],\n",
              "        [0, 0, 0],\n",
              "        [0, 0, 0]],\n",
              "\n",
              "       [[0, 0, 0],\n",
              "        [0, 0, 0],\n",
              "        [0, 0, 0],\n",
              "        ...,\n",
              "        [0, 0, 0],\n",
              "        [0, 0, 0],\n",
              "        [0, 0, 0]],\n",
              "\n",
              "       ...,\n",
              "\n",
              "       [[0, 0, 0],\n",
              "        [0, 0, 0],\n",
              "        [0, 0, 0],\n",
              "        ...,\n",
              "        [0, 0, 0],\n",
              "        [0, 0, 0],\n",
              "        [0, 0, 0]],\n",
              "\n",
              "       [[0, 0, 0],\n",
              "        [0, 0, 0],\n",
              "        [0, 0, 0],\n",
              "        ...,\n",
              "        [0, 0, 0],\n",
              "        [0, 0, 0],\n",
              "        [0, 0, 0]],\n",
              "\n",
              "       [[0, 0, 0],\n",
              "        [0, 0, 0],\n",
              "        [0, 0, 0],\n",
              "        ...,\n",
              "        [0, 0, 0],\n",
              "        [0, 0, 0],\n",
              "        [0, 0, 0]]], dtype=uint8)"
            ],
            "text/html": [
              "<style>\n",
              "      .ndarray_repr .ndarray_raw_data {\n",
              "        display: none;\n",
              "      }\n",
              "      .ndarray_repr.show_array .ndarray_raw_data {\n",
              "        display: block;\n",
              "      }\n",
              "      .ndarray_repr.show_array .ndarray_image_preview {\n",
              "        display: none;\n",
              "      }\n",
              "      </style>\n",
              "      <div id=\"id-5c0f97d8-d7dc-4435-ba12-0d94263a2048\" class=\"ndarray_repr\"><pre>ndarray (224, 224, 3) <button style=\"padding: 0 2px;\">show data</button></pre><img src=\"data:image/png;base64,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\" class=\"ndarray_image_preview\" /><pre class=\"ndarray_raw_data\">array([[[0, 0, 0],\n",
              "        [0, 0, 0],\n",
              "        [0, 0, 0],\n",
              "        ...,\n",
              "        [0, 0, 0],\n",
              "        [0, 0, 0],\n",
              "        [0, 0, 0]],\n",
              "\n",
              "       [[0, 0, 0],\n",
              "        [0, 0, 0],\n",
              "        [0, 0, 0],\n",
              "        ...,\n",
              "        [0, 0, 0],\n",
              "        [0, 0, 0],\n",
              "        [0, 0, 0]],\n",
              "\n",
              "       [[0, 0, 0],\n",
              "        [0, 0, 0],\n",
              "        [0, 0, 0],\n",
              "        ...,\n",
              "        [0, 0, 0],\n",
              "        [0, 0, 0],\n",
              "        [0, 0, 0]],\n",
              "\n",
              "       ...,\n",
              "\n",
              "       [[0, 0, 0],\n",
              "        [0, 0, 0],\n",
              "        [0, 0, 0],\n",
              "        ...,\n",
              "        [0, 0, 0],\n",
              "        [0, 0, 0],\n",
              "        [0, 0, 0]],\n",
              "\n",
              "       [[0, 0, 0],\n",
              "        [0, 0, 0],\n",
              "        [0, 0, 0],\n",
              "        ...,\n",
              "        [0, 0, 0],\n",
              "        [0, 0, 0],\n",
              "        [0, 0, 0]],\n",
              "\n",
              "       [[0, 0, 0],\n",
              "        [0, 0, 0],\n",
              "        [0, 0, 0],\n",
              "        ...,\n",
              "        [0, 0, 0],\n",
              "        [0, 0, 0],\n",
              "        [0, 0, 0]]], dtype=uint8)</pre></div><script>\n",
              "      (() => {\n",
              "      const titles = ['show data', 'hide data'];\n",
              "      let index = 0\n",
              "      document.querySelector('#id-5c0f97d8-d7dc-4435-ba12-0d94263a2048 button').onclick = (e) => {\n",
              "        document.querySelector('#id-5c0f97d8-d7dc-4435-ba12-0d94263a2048').classList.toggle('show_array');\n",
              "        index = (++index) % 2;\n",
              "        document.querySelector('#id-5c0f97d8-d7dc-4435-ba12-0d94263a2048 button').textContent = titles[index];\n",
              "        e.preventDefault();\n",
              "        e.stopPropagation();\n",
              "      }\n",
              "      })();\n",
              "    </script>"
            ]
          },
          "metadata": {},
          "execution_count": 49
        }
      ]
    },
    {
      "cell_type": "code",
      "source": [
        "X_test.shape"
      ],
      "metadata": {
        "colab": {
          "base_uri": "https://localhost:8080/"
        },
        "id": "t6ovbP2FP9_3",
        "outputId": "c9d1d935-b6bc-473f-be64-cff182fce600"
      },
      "execution_count": 50,
      "outputs": [
        {
          "output_type": "execute_result",
          "data": {
            "text/plain": [
              "(562, 224, 224, 3)"
            ]
          },
          "metadata": {},
          "execution_count": 50
        }
      ]
    },
    {
      "cell_type": "code",
      "source": [
        "a1 = cv2.imread('/content/archive/Rice_Image_Dataset/Arborio/Arborio (1).jpg')\n",
        "a1 = cv2.resize(a1, (224, 224))\n",
        "a1 = np.array(a1)\n",
        "a1 = a1/255\n",
        "a1 = np.expand_dims(a1, 0)\n",
        "pred = model.predict(a1)\n",
        "pred = pred.argmax()\n",
        "pred"
      ],
      "metadata": {
        "colab": {
          "base_uri": "https://localhost:8080/"
        },
        "id": "84erLGgGQCJn",
        "outputId": "734086b5-efc5-425e-d801-277e4b288c86"
      },
      "execution_count": 51,
      "outputs": [
        {
          "output_type": "stream",
          "name": "stdout",
          "text": [
            "\u001b[1m1/1\u001b[0m \u001b[32m━━━━━━━━━━━━━━━━━━━━\u001b[0m\u001b[37m\u001b[0m \u001b[1m1s\u001b[0m 525ms/step\n"
          ]
        },
        {
          "output_type": "execute_result",
          "data": {
            "text/plain": [
              "24"
            ]
          },
          "metadata": {},
          "execution_count": 51
        }
      ]
    },
    {
      "cell_type": "code",
      "source": [
        "for i, j in df_labels.items():\n",
        "    if pred == j:\n",
        "        print(i)\n",
        ""
      ],
      "metadata": {
        "id": "sSOQp1dfQSaB"
      },
      "execution_count": 59,
      "outputs": []
    },
    {
      "cell_type": "code",
      "source": [
        "a2 = cv2.imread('/content/archive/Rice_Image_Dataset/Ipsala/Ipsala (1).jpg')\n",
        "a2 = cv2.resize(a2, (224,224))\n",
        "a2 = np.array(a2)\n",
        "a2 = a2/255\n",
        "a2 = np.expand_dims(a2, 0)\n",
        "a2.shape"
      ],
      "metadata": {
        "colab": {
          "base_uri": "https://localhost:8080/"
        },
        "id": "tzYGV73kQkHT",
        "outputId": "1074772d-4da5-4789-ac12-6f967b5436fe"
      },
      "execution_count": 63,
      "outputs": [
        {
          "output_type": "execute_result",
          "data": {
            "text/plain": [
              "(1, 224, 224, 3)"
            ]
          },
          "metadata": {},
          "execution_count": 63
        }
      ]
    },
    {
      "cell_type": "code",
      "source": [
        "model.save(\"rice.h5\")"
      ],
      "metadata": {
        "colab": {
          "base_uri": "https://localhost:8080/"
        },
        "id": "YmTn3mtlQmK7",
        "outputId": "51103273-eec8-41f0-fff1-0796e08811e5"
      },
      "execution_count": 65,
      "outputs": [
        {
          "output_type": "stream",
          "name": "stderr",
          "text": [
            "WARNING:absl:You are saving your model as an HDF5 file via `model.save()` or `keras.saving.save_model(model)`. This file format is considered legacy. We recommend using instead the native Keras format, e.g. `model.save('my_model.keras')` or `keras.saving.save_model(model, 'my_model.keras')`. \n"
          ]
        }
      ]
    }
  ]
}